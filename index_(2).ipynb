{
  "cells": [
    {
      "cell_type": "markdown",
      "metadata": {
        "id": "Oi8mFfYyocpF"
      },
      "source": [
        "# Introduction to Variables: Variable Assignment - Lab"
      ]
    },
    {
      "cell_type": "markdown",
      "metadata": {
        "id": "r3oZcFVHocpK"
      },
      "source": [
        "## Introduction\n",
        "Now that we know about variables, we want to put them to use by associating them with some data.  Here, we will be using variables to store information related to a vacation that we would like to go on.\n",
        "\n",
        "Just as before, we ask you to run the code and ensure that it matches what is commented out."
      ]
    },
    {
      "cell_type": "markdown",
      "metadata": {
        "id": "c1OpQcSeocpM"
      },
      "source": [
        "## Objectives\n",
        "\n",
        "You will be able to:\n",
        "\n",
        "* Assign and declare a python variable"
      ]
    },
    {
      "cell_type": "markdown",
      "metadata": {
        "id": "f14CRvcEocpN"
      },
      "source": [
        "## Assigning variables"
      ]
    },
    {
      "cell_type": "markdown",
      "metadata": {
        "id": "MaeJ_q2IocpP"
      },
      "source": [
        "Assign the string \"January\" to the variable `travel_month`, as that is the month we would like to travel."
      ]
    },
    {
      "cell_type": "code",
      "execution_count": 1,
      "metadata": {
        "id": "UatpaSSFocpQ"
      },
      "outputs": [],
      "source": [
        "travel_month = \"January\""
      ]
    },
    {
      "cell_type": "markdown",
      "metadata": {
        "id": "m2YQfkZuocpT"
      },
      "source": [
        "> We start by setting the variable equal to the data type None.  As we know, `None` represents the absence of a value. Now we can take care of assigning the variable to something other than `None`."
      ]
    },
    {
      "cell_type": "code",
      "execution_count": 2,
      "metadata": {
        "id": "A7XwjamqocpU"
      },
      "outputs": [],
      "source": [
        "travel_month # \"January\"\n",
        "travel_month = None\n",
        "travel_month = \"January\""
      ]
    },
    {
      "cell_type": "markdown",
      "metadata": {
        "id": "gVIGg912ocpW"
      },
      "source": [
        "Now let's assign a variable equal to the number of weeks that we would like to travel, 3."
      ]
    },
    {
      "cell_type": "code",
      "execution_count": 3,
      "metadata": {
        "id": "h4ZdWraqocpY"
      },
      "outputs": [],
      "source": [
        "number_of_weeks = None"
      ]
    },
    {
      "cell_type": "code",
      "execution_count": 4,
      "metadata": {
        "id": "jiN10gwxocpZ"
      },
      "outputs": [],
      "source": [
        "number_of_weeks # 3\n",
        "number_of_weeks = 3"
      ]
    },
    {
      "cell_type": "markdown",
      "metadata": {
        "id": "dWuLJThhocpa"
      },
      "source": [
        "UPDATE: we just learned that we can travel for a longer period of time. So, we need to reassign the `number_of_weeks` variable to 5."
      ]
    },
    {
      "cell_type": "code",
      "execution_count": 5,
      "metadata": {
        "id": "S5S88v1Cocpb"
      },
      "outputs": [],
      "source": [
        "number_of_weeks # 5\n",
        "number_of_weeks = 5"
      ]
    },
    {
      "cell_type": "markdown",
      "metadata": {
        "id": "SYdZcHiTocpb"
      },
      "source": [
        "Now that's more like it.\n",
        "\n",
        "Finally, let's create a string that uses both of these variables to tell us how many weeks we will be traveling in our travel month. The string should read `\"I will be traveling 5 weeks starting in the month of January\"`. The process of using one or more variables as placeholders within a larger string is called **string interpolation**.  Interpolate the `num_of_weeks` and `travel_month` to get the correct string.\n",
        "\n",
        "> **Remember:** We can interpolate strings in the following ways:\n",
        "* \"Start of string\" + variable_to_interpolate_1 + \"middle\" + variable_to_interpolate_2 + \"end of string\"\n",
        "* \"Start of string {variable_1} middle {variable_2} end of string\".format(variable_1=variable_to_interpolate, variable_2=variable_to_interpolate)\n",
        "* f\"Start of string {variable_to_interpolate_1} middle {variable_to_interpolate_2} end of string\""
      ]
    },
    {
      "cell_type": "code",
      "execution_count": 6,
      "metadata": {
        "id": "MInewlKvocpc"
      },
      "outputs": [],
      "source": [
        "traveling_schedule = None\n",
        "\n"
      ]
    },
    {
      "source": [
        "traveling_schedule # \"I will be traveling 5 weeks starting in the month of January\"\n",
        "travel_month = \"January\"\n",
        "number_of_weeks = 5\n",
        "traveling_schedule = f\"I will be traveling {number_of_weeks} weeks starting in the month of {travel_month}\"\n",
        "print(traveling_schedule)"
      ],
      "cell_type": "code",
      "metadata": {
        "colab": {
          "base_uri": "https://localhost:8080/"
        },
        "id": "FP9nyvfprTEt",
        "outputId": "9765cd16-f6ed-496d-bc44-5c5c6ba35123"
      },
      "execution_count": 7,
      "outputs": [
        {
          "output_type": "stream",
          "name": "stdout",
          "text": [
            "I will be traveling 5 weeks starting in the month of January\n"
          ]
        }
      ]
    },
    {
      "cell_type": "markdown",
      "metadata": {
        "id": "c0Yp7DNCocpd"
      },
      "source": [
        "### Summary"
      ]
    },
    {
      "cell_type": "markdown",
      "metadata": {
        "id": "hqlNBt5Oocpd"
      },
      "source": [
        "Great! In this lab, we were able to get some more practice with storing information in variables through assignment and reassignment."
      ]
    }
  ],
  "metadata": {
    "kernelspec": {
      "display_name": "Python (learn-env)",
      "language": "python",
      "name": "learn-env"
    },
    "language_info": {
      "codemirror_mode": {
        "name": "ipython",
        "version": 3
      },
      "file_extension": ".py",
      "mimetype": "text/x-python",
      "name": "python",
      "nbconvert_exporter": "python",
      "pygments_lexer": "ipython3",
      "version": "3.8.5"
    },
    "colab": {
      "provenance": []
    }
  },
  "nbformat": 4,
  "nbformat_minor": 0
}